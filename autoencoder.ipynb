{
 "cells": [
  {
   "cell_type": "code",
   "execution_count": 1,
   "metadata": {},
   "outputs": [
    {
     "name": "stderr",
     "output_type": "stream",
     "text": [
      "Using TensorFlow backend.\n"
     ]
    }
   ],
   "source": [
    "import keras\n",
    "from tensorflow.keras import backend\n",
    "import pandas as pd\n",
    "import re\n",
    "import os"
   ]
  },
  {
   "cell_type": "code",
   "execution_count": 2,
   "metadata": {},
   "outputs": [],
   "source": [
    "def read_data(direc):\n",
    "    df_list = []\n",
    "    for f in os.listdir(direc):\n",
    "        if f.endswith('.csv'):\n",
    "            print('reading ...', f)\n",
    "            df = pd.read_csv(direc+'/'+f)\n",
    "            df_list.append(df)\n",
    "    print('Joining all together ...')\n",
    "    df_full = pd.concat(df_list, ignore_index=1)\n",
    "    print('Done.')\n",
    "    return df_full"
   ]
  },
  {
   "cell_type": "code",
   "execution_count": 98,
   "metadata": {},
   "outputs": [
    {
     "name": "stdout",
     "output_type": "stream",
     "text": [
      "reading ... 20191230-09.csv\n",
      "reading ... data20200102-17.csv\n",
      "reading ... data20200106-12.csv\n",
      "reading ... data20200107-14.csv\n",
      "reading ... data20200107-15.csv\n",
      "reading ... data20200107-16.csv\n",
      "reading ... data20200107-18.csv\n",
      "reading ... data20200108-09.csv\n",
      "reading ... data20200108-14.csv\n",
      "reading ... data20200108-15.csv\n",
      "reading ... data20200108-16.csv\n",
      "reading ... data20200109-09.csv\n",
      "reading ... data20200109-10.csv\n",
      "reading ... data20200109-15.csv\n",
      "Joining all together ...\n",
      "Done.\n"
     ]
    }
   ],
   "source": [
    "df = read_data(r'C:\\Users\\csob\\OneDrive - Chevron\\powershell_data')"
   ]
  },
  {
   "cell_type": "code",
   "execution_count": 4,
   "metadata": {},
   "outputs": [],
   "source": [
    "df_sample=df.sample(100000, replace=False)\n",
    "del df"
   ]
  },
  {
   "cell_type": "code",
   "execution_count": 5,
   "metadata": {},
   "outputs": [],
   "source": [
    "df_sample['hash']=df_sample['scripts'].apply(hash)"
   ]
  },
  {
   "cell_type": "code",
   "execution_count": 6,
   "metadata": {},
   "outputs": [],
   "source": [
    "df_sample = df_sample.drop_duplicates(subset='hash')"
   ]
  },
  {
   "cell_type": "code",
   "execution_count": 7,
   "metadata": {},
   "outputs": [],
   "source": [
    "def clean_script_block(x):\n",
    "    block = x.split(':')[0]\n",
    "    if 'of' in block:\n",
    "        x = x.split(':')[1:]\n",
    "        x = ' '.join(x)\n",
    "    x = x.replace('\\n',' ')\n",
    "    x = x.replace('\\t',' ')\n",
    "    #replace all numbers with *\n",
    "    regex = re.compile('[0-9]')\n",
    "    x = regex.sub('*', x)\n",
    "    #replace all chars not in a-z, A-Z, *(numbers replaced with *) and $ with empty spaces\n",
    "    regex = re.compile('[^a-zA-Z*$-]')\n",
    "    x = regex.sub(' ', x)\n",
    "    #replace all upper case with lower case\n",
    "    x = x.lower()\n",
    "    x = ' '.join(x.split())\n",
    "    return x"
   ]
  },
  {
   "cell_type": "code",
   "execution_count": 8,
   "metadata": {},
   "outputs": [],
   "source": [
    "df_sample['scripts_clean']=df_sample['scripts'].apply(lambda x: clean_script_block(x))"
   ]
  },
  {
   "cell_type": "code",
   "execution_count": 9,
   "metadata": {},
   "outputs": [],
   "source": [
    "scripts=list(df_sample['scripts_clean'])"
   ]
  },
  {
   "cell_type": "code",
   "execution_count": 10,
   "metadata": {},
   "outputs": [],
   "source": [
    "word_token=keras.preprocessing.text.Tokenizer(oov_token='UNK', num_words=20000)"
   ]
  },
  {
   "cell_type": "code",
   "execution_count": 11,
   "metadata": {},
   "outputs": [],
   "source": [
    "word_token.fit_on_texts(scripts)"
   ]
  },
  {
   "cell_type": "code",
   "execution_count": 12,
   "metadata": {},
   "outputs": [
    {
     "data": {
      "text/plain": [
       "20528"
      ]
     },
     "execution_count": 12,
     "metadata": {},
     "output_type": "execute_result"
    }
   ],
   "source": [
    "len(word_token.word_index)"
   ]
  },
  {
   "cell_type": "code",
   "execution_count": 13,
   "metadata": {},
   "outputs": [],
   "source": [
    "embeddings = word_token.texts_to_sequences(scripts)"
   ]
  },
  {
   "cell_type": "code",
   "execution_count": 14,
   "metadata": {},
   "outputs": [
    {
     "data": {
      "text/plain": [
       "3136"
      ]
     },
     "execution_count": 14,
     "metadata": {},
     "output_type": "execute_result"
    }
   ],
   "source": [
    "max_len=max([len(e) for e in embeddings]);max_len"
   ]
  },
  {
   "cell_type": "code",
   "execution_count": 15,
   "metadata": {},
   "outputs": [],
   "source": [
    "max_len=200"
   ]
  },
  {
   "cell_type": "code",
   "execution_count": 16,
   "metadata": {},
   "outputs": [],
   "source": [
    "padded_embeddings = keras.preprocessing.sequence.pad_sequences(embeddings, maxlen=max_len, padding='post')"
   ]
  },
  {
   "cell_type": "code",
   "execution_count": 66,
   "metadata": {},
   "outputs": [],
   "source": [
    "from sklearn.model_selection import train_test_split\n",
    "from sklearn.preprocessing import MinMaxScaler"
   ]
  },
  {
   "cell_type": "code",
   "execution_count": 88,
   "metadata": {},
   "outputs": [],
   "source": [
    "scaler=MinMaxScaler()\n",
    "scaled_data=scaler.fit_transform(padded_embeddings)\n",
    "X_train, X_test = train_test_split(scaled_data ,test_size=0.2, random_state=43)"
   ]
  },
  {
   "cell_type": "code",
   "execution_count": 89,
   "metadata": {},
   "outputs": [],
   "source": [
    "from keras.models import Model, Sequential\n",
    "from keras.layers import Dense, Input, LSTM, Embedding, RepeatVector\n",
    "from keras.callbacks import ModelCheckpoint, TensorBoard\n",
    "from keras import regularizers"
   ]
  },
  {
   "cell_type": "code",
   "execution_count": 90,
   "metadata": {},
   "outputs": [],
   "source": [
    "input_dim=padded_embeddings.shape[1]\n",
    "encoding_dim=56\n",
    "hidden_dim=int(encoding_dim/2)\n",
    "hidden_dim_2=int(encoding_dim/4)\n",
    "hidden_dim_3=int(encoding_dim/8)\n",
    "epochs=30\n",
    "batch_size=32\n",
    "learning_rate=0.1"
   ]
  },
  {
   "cell_type": "code",
   "execution_count": 157,
   "metadata": {},
   "outputs": [],
   "source": [
    "nb_epoch = 30\n",
    "batch_size = 32\n",
    "learning_rate = 0.1\n",
    "input_layer = Input(shape=(input_dim, ))\n",
    "encoder = Dense(encoding_dim, activation=\"tanh\", activity_regularizer=regularizers.l1(10e-5))(input_layer)\n",
    "encoder = Dense(hidden_dim, activation=\"relu\")(encoder)\n",
    "encoder = Dense(hidden_dim_2, activation='relu')(encoder)\n",
    "encoder = Dense(hidden_dim_3, activation='relu')(encoder)\n",
    "decoder = Dense(hidden_dim_3, activation='relu')(encoder)\n",
    "decoder = Dense(hidden_dim_2, activation='relu')(decoder)\n",
    "decoder = Dense(hidden_dim, activation='relu')(decoder)\n",
    "decoder = Dense(encoding_dim, activation='relu')(decoder)\n",
    "decoder = Dense(input_dim, activation='tanh')(decoder)\n",
    "autoencoder = Model(inputs=input_layer, outputs=decoder)"
   ]
  },
  {
   "cell_type": "code",
   "execution_count": 158,
   "metadata": {},
   "outputs": [
    {
     "name": "stdout",
     "output_type": "stream",
     "text": [
      "Model: \"model_13\"\n",
      "_________________________________________________________________\n",
      "Layer (type)                 Output Shape              Param #   \n",
      "=================================================================\n",
      "input_22 (InputLayer)        (None, 200)               0         \n",
      "_________________________________________________________________\n",
      "dense_69 (Dense)             (None, 56)                11256     \n",
      "_________________________________________________________________\n",
      "dense_70 (Dense)             (None, 28)                1596      \n",
      "_________________________________________________________________\n",
      "dense_71 (Dense)             (None, 14)                406       \n",
      "_________________________________________________________________\n",
      "dense_72 (Dense)             (None, 7)                 105       \n",
      "_________________________________________________________________\n",
      "dense_73 (Dense)             (None, 7)                 56        \n",
      "_________________________________________________________________\n",
      "dense_74 (Dense)             (None, 14)                112       \n",
      "_________________________________________________________________\n",
      "dense_75 (Dense)             (None, 28)                420       \n",
      "_________________________________________________________________\n",
      "dense_76 (Dense)             (None, 56)                1624      \n",
      "_________________________________________________________________\n",
      "dense_77 (Dense)             (None, 200)               11400     \n",
      "=================================================================\n",
      "Total params: 26,975\n",
      "Trainable params: 26,975\n",
      "Non-trainable params: 0\n",
      "_________________________________________________________________\n"
     ]
    }
   ],
   "source": [
    "autoencoder.summary()"
   ]
  },
  {
   "cell_type": "code",
   "execution_count": 159,
   "metadata": {},
   "outputs": [],
   "source": [
    "autoencoder.compile(optimizer='adam', \n",
    "                    loss='mean_squared_error', \n",
    "                    metrics=['mse'])"
   ]
  },
  {
   "cell_type": "code",
   "execution_count": null,
   "metadata": {},
   "outputs": [
    {
     "name": "stdout",
     "output_type": "stream",
     "text": [
      "Train on 79802 samples, validate on 19951 samples\n",
      "Epoch 1/30\n",
      "48032/79802 [=================>............] - ETA: 1:29 - loss: 0.0010 - mse: 4.9832e-0\r"
     ]
    }
   ],
   "source": [
    "autoencoder.fit(X_train, X_train,\n",
    "                epochs=epochs,\n",
    "                batch_size=batch_size,\n",
    "                shuffle=True,\n",
    "                validation_data=(X_test, X_test),\n",
    "                verbose=1)"
   ]
  },
  {
   "cell_type": "code",
   "execution_count": 99,
   "metadata": {},
   "outputs": [],
   "source": [
    "autoencoder.save('autoencoder.h5')"
   ]
  },
  {
   "cell_type": "code",
   "execution_count": 100,
   "metadata": {},
   "outputs": [
    {
     "data": {
      "text/plain": [
       "['min_max_scaler.pkl']"
      ]
     },
     "execution_count": 100,
     "metadata": {},
     "output_type": "execute_result"
    }
   ],
   "source": [
    "import joblib\n",
    "joblib.dump(word_token, 'word_token.pkl')\n",
    "joblib.dump(scaler, 'min_max_scaler.pkl')"
   ]
  },
  {
   "cell_type": "code",
   "execution_count": 101,
   "metadata": {},
   "outputs": [],
   "source": [
    "test_data=df.sample(20000, replace=False)\n",
    "del df"
   ]
  },
  {
   "cell_type": "code",
   "execution_count": 103,
   "metadata": {},
   "outputs": [],
   "source": [
    "test_scripts=list(test_data['scripts'])\n",
    "del test_data"
   ]
  },
  {
   "cell_type": "code",
   "execution_count": 104,
   "metadata": {},
   "outputs": [],
   "source": [
    "test_tokens = word_token.texts_to_sequences(test_scripts)"
   ]
  },
  {
   "cell_type": "code",
   "execution_count": 106,
   "metadata": {},
   "outputs": [],
   "source": [
    "test_padded = keras.preprocessing.sequence.pad_sequences(test_tokens, maxlen=max_len, padding='post')"
   ]
  },
  {
   "cell_type": "code",
   "execution_count": 134,
   "metadata": {},
   "outputs": [],
   "source": [
    "def data_prep(data):\n",
    "    clean_data = [clean_script_block(s) for s in data]\n",
    "    embeddings = word_token.texts_to_sequences(clean_data)\n",
    "    padded = keras.preprocessing.sequence.pad_sequences(embeddings, maxlen=max_len, padding='post')\n",
    "    scaled_data = scaler.transform(padded)\n",
    "    return scaled_data"
   ]
  },
  {
   "cell_type": "code",
   "execution_count": 135,
   "metadata": {},
   "outputs": [],
   "source": [
    "test=data_prep(test_scripts)"
   ]
  },
  {
   "cell_type": "code",
   "execution_count": 138,
   "metadata": {},
   "outputs": [],
   "source": [
    "predicted=autoencoder.predict(test)"
   ]
  },
  {
   "cell_type": "code",
   "execution_count": 139,
   "metadata": {},
   "outputs": [],
   "source": [
    "import numpy as np\n",
    "mse = np.mean(np.power(scaled_data - predicted, 2), axis=1)"
   ]
  },
  {
   "cell_type": "code",
   "execution_count": 140,
   "metadata": {},
   "outputs": [
    {
     "data": {
      "text/plain": [
       "array([3.96752827e-04, 2.36310445e-05, 1.05877488e-05, ...,\n",
       "       1.00342790e-05, 7.73146450e-05, 6.62749999e-05])"
      ]
     },
     "execution_count": 140,
     "metadata": {},
     "output_type": "execute_result"
    }
   ],
   "source": [
    "mse"
   ]
  },
  {
   "cell_type": "code",
   "execution_count": 141,
   "metadata": {},
   "outputs": [],
   "source": [
    "df=pd.DataFrame()"
   ]
  },
  {
   "cell_type": "code",
   "execution_count": 142,
   "metadata": {},
   "outputs": [],
   "source": [
    "df['scripts']=test_scripts"
   ]
  },
  {
   "cell_type": "code",
   "execution_count": 143,
   "metadata": {},
   "outputs": [],
   "source": [
    "df['mse']=mse"
   ]
  },
  {
   "cell_type": "code",
   "execution_count": 144,
   "metadata": {},
   "outputs": [
    {
     "data": {
      "text/html": [
       "<div>\n",
       "<style scoped>\n",
       "    .dataframe tbody tr th:only-of-type {\n",
       "        vertical-align: middle;\n",
       "    }\n",
       "\n",
       "    .dataframe tbody tr th {\n",
       "        vertical-align: top;\n",
       "    }\n",
       "\n",
       "    .dataframe thead th {\n",
       "        text-align: right;\n",
       "    }\n",
       "</style>\n",
       "<table border=\"1\" class=\"dataframe\">\n",
       "  <thead>\n",
       "    <tr style=\"text-align: right;\">\n",
       "      <th></th>\n",
       "      <th>scripts</th>\n",
       "      <th>mse</th>\n",
       "    </tr>\n",
       "  </thead>\n",
       "  <tbody>\n",
       "    <tr>\n",
       "      <th>0</th>\n",
       "      <td>Creating Scriptblock text (2 of 3):\\n\\nme},\\n\\...</td>\n",
       "      <td>0.000397</td>\n",
       "    </tr>\n",
       "    <tr>\n",
       "      <th>1</th>\n",
       "      <td>Creating Scriptblock text (1 of 1):\\n\\n\\n\\n#re...</td>\n",
       "      <td>0.000024</td>\n",
       "    </tr>\n",
       "    <tr>\n",
       "      <th>2</th>\n",
       "      <td>Creating Scriptblock text (4 of 5):\\n\\netName=...</td>\n",
       "      <td>0.000011</td>\n",
       "    </tr>\n",
       "    <tr>\n",
       "      <th>3</th>\n",
       "      <td>Creating Scriptblock text (1 of 1):\\n\\n{ Set-S...</td>\n",
       "      <td>0.000076</td>\n",
       "    </tr>\n",
       "    <tr>\n",
       "      <th>4</th>\n",
       "      <td>Creating Scriptblock text (4 of 4):\\n\\nss {\\n\\...</td>\n",
       "      <td>0.000014</td>\n",
       "    </tr>\n",
       "  </tbody>\n",
       "</table>\n",
       "</div>"
      ],
      "text/plain": [
       "                                             scripts       mse\n",
       "0  Creating Scriptblock text (2 of 3):\\n\\nme},\\n\\...  0.000397\n",
       "1  Creating Scriptblock text (1 of 1):\\n\\n\\n\\n#re...  0.000024\n",
       "2  Creating Scriptblock text (4 of 5):\\n\\netName=...  0.000011\n",
       "3  Creating Scriptblock text (1 of 1):\\n\\n{ Set-S...  0.000076\n",
       "4  Creating Scriptblock text (4 of 4):\\n\\nss {\\n\\...  0.000014"
      ]
     },
     "execution_count": 144,
     "metadata": {},
     "output_type": "execute_result"
    }
   ],
   "source": [
    "df.head()"
   ]
  },
  {
   "cell_type": "code",
   "execution_count": 153,
   "metadata": {},
   "outputs": [
    {
     "name": "stdout",
     "output_type": "stream",
     "text": [
      "MSE 0.9998 thresholde:0.03513053949470924\n"
     ]
    }
   ],
   "source": [
    "mse_threshold = np.quantile(df['mse'], 0.9998)\n",
    "print(f'MSE 0.9998 thresholde:{mse_threshold}')"
   ]
  },
  {
   "cell_type": "code",
   "execution_count": 154,
   "metadata": {},
   "outputs": [],
   "source": [
    "df['outlier'] = 0\n",
    "df.loc[df['mse'] > mse_threshold, 'outlier'] =1"
   ]
  },
  {
   "cell_type": "code",
   "execution_count": 155,
   "metadata": {},
   "outputs": [
    {
     "data": {
      "text/plain": [
       "4"
      ]
     },
     "execution_count": 155,
     "metadata": {},
     "output_type": "execute_result"
    }
   ],
   "source": [
    "df['outlier'].sum()"
   ]
  },
  {
   "cell_type": "code",
   "execution_count": 156,
   "metadata": {},
   "outputs": [
    {
     "name": "stdout",
     "output_type": "stream",
     "text": [
      "Creating Scriptblock text (1 of 1):\n",
      "\n",
      "# Copyright © 2008, Microsoft Corporation. All rights reserved.\n",
      "\n",
      "\n",
      "\n",
      "trap {break}\n",
      "\n",
      "\n",
      "\n",
      "# Include common library\n",
      "\n",
      ". .\\CL_Utility.ps1\n",
      "\n",
      "\n",
      "\n",
      "Import-LocalizedData -BindingVariable localizationString -FileName CL_LocalizationData\n",
      "\n",
      "\n",
      "\n",
      "# function library\n",
      "\n",
      "# Function to check whether have unnecessary files\n",
      "\n",
      "function Test-UnnecessaryFiles([string]$folder = $(throw \"No folder is specified\")) {\n",
      "\n",
      "    if([String]::IsNullOrEmpty($folder) -or (-not(Test-Path $folder))) {\n",
      "\n",
      "        return $false\n",
      "\n",
      "    }\n",
      "\n",
      "\n",
      "\n",
      "    [int]$threshold = -1\n",
      "\n",
      "    $folders = Get-ChildItem -literalPath $folder -Recurse -Force | Where-Object {($_.PSIsContainer) -and ((($_.CreationTime).CompareTo((Get-Date).AddMonths($threshold))) -lt 0)}\n",
      "\n",
      "\n",
      "\n",
      "    return ($folders -ne $null)\n",
      "\n",
      "}\n",
      "\n",
      "\n",
      "\n",
      "# Check troubleshooting history\n",
      "\n",
      "Write-DiagProgress -Activity $localizationString.CheckTSHistory\n",
      "\n",
      "\n",
      "\n",
      "[string]$userTSHistoryPath = Get-UserTSHistoryPath\n",
      "\n",
      "[string]$adminTSHistoryPath = Get-AdminTSHistoryPath\n",
      "\n",
      "[double]$userTSHistorySize = (Get-FolderSize $userTSHistoryPath)\n",
      "\n",
      "[double]$adminTSHistorySize = (Get-FolderSize $adminTSHistoryPath)\n",
      "\n",
      "[double]$totalSize = Format-DiskSpaceMB ($userTSHistorySize + $adminTSHistorySize)\n",
      "\n",
      "\n",
      "\n",
      "# Reporting\n",
      "\n",
      "@{Name=$userTSHistoryPath;Space=$userTSHistorySize} | Select-Object -Property @{Name=$localizationString.userTSHistoryPath;Expression={$_.Name}},@{Name=$localizationString.userTSHistorySize;Expression={(Format-DiskSpaceMB $_.Space) + \"MB\"}} | ConvertTo-Xml | Update-DiagReport -id UserTSHistorySizeInfo -Name $localizationString.UserTSHistoryInfo_name -Description $localizationString.UserTSHistoryInfo_description -rid \"RC_DiagnosticHistory\"\n",
      "\n",
      "\n",
      "\n",
      "@{Name=$adminTSHistoryPath;Space=$adminTSHistorySize} | Select-Object -Property @{Name=$localizationString.adminTSHistoryPath;Expression={$_.Name}},@{Name=$localizationString.adminTSHistorySize;Expression={(Format-DiskSpaceMB $_.Space) + \"MB\"}} | ConvertTo-Xml | Update-DiagReport -id AdminTSHistorySizeInfo -Name $localizationString.AdminTSHistoryInfo_name -Description $localizationString.AdminTSHistoryInfo_description -rid \"RC_DiagnosticHistory\"\n",
      "\n",
      "\n",
      "\n",
      "\n",
      "\n",
      "if(Test-UnnecessaryFiles $userTSHistoryPath) {\n",
      "\n",
      "    Update-DiagRootcause -ID \"RC_DiagnosticHistory\" -Detected $true -Parameter @{'UnwantedSpace'=(Format-DiskSpaceMB $totalSize)}\n",
      "\n",
      "    return\n",
      "\n",
      "}\n",
      "\n",
      "\n",
      "\n",
      "if(Test-UnnecessaryFiles $adminTSHistoryPath) {\n",
      "\n",
      "    Update-DiagRootcause -ID \"RC_DiagnosticHistory\" -Detected $true -Parameter @{'UnwantedSpace'=(Format-DiskSpaceMB $totalSize)}\n",
      "\n",
      "    return\n",
      "\n",
      "}\n",
      "\n",
      "\n",
      "\n",
      "Update-DiagRootcause -ID \"RC_DiagnosticHistory\" -Detected $false -Parameter @{'UnwantedSpace'=(Format-DiskSpaceMB $totalSize)}\n",
      "\n",
      "\n",
      "\n",
      "\n",
      "\n",
      "ScriptBlock ID: 4178195c-712b-479b-9416-cd6e199c7b9b\n",
      "\n",
      "Path: C:\\WINDOWS\\TEMP\\SDIAG_3b614958-988a-4b7e-bcb9-81cc469053e9\\TS_DiagnosticHistory.ps1\n",
      "Creating Scriptblock text (1 of 1):\n",
      "\n",
      "# Test PI\n",
      "\n",
      "#$temperatureValueUrl = \"https://piwebt.tengizchevroil.com/piwebapi/streams/F1DPpxEdV_k88EqA63Jsuw-yIg7cUJAAVENPR0lMUElUXDA5MFRJMDA1MDgyN18yLlBW/value\" # https://piwebt.tengizchevroil.com/piwebapi/attributes?path=\\\\tcogilpit\\090TI0050827_2.PV - EMS27 10m Temperature\n",
      "\n",
      "#$windDirectionValueUrl = \"https://piwebt.tengizchevroil.com/piwebapi/streams/F1DPpxEdV_k88EqA63Jsuw-yIg6sUJAAVENPR0lMUElUXDA5MFpJMDA1MDgyMV8yLlBW/value\" # https://piwebt.tengizchevroil.com/piwebapi/attributes?path=\\\\tcogilpit\\090ZI0050821_2.PV - EMS27 10m Horizontal Wind Direction\n",
      "\n",
      "#$humidityValueUrl = \"https://piwebt.tengizchevroil.com/piwebapi/streams/F1DPpxEdV_k88EqA63Jsuw-yIg78UJAAVENPR0lMUElUXDA5ME1JMDA1MDgyNy5QVg/value\" # https://piwebt.tengizchevroil.com/piwebapi/attributes?path=\\\\tcogilpit\\090MI0050827.PV - EMS27 10m Relative Humidity\n",
      "\n",
      "#$barometricPressureValueUrl = \"https://piwebt.tengizchevroil.com/piwebapi/streams/F1DPpxEdV_k88EqA63Jsuw-yIg8cUJAAVENPR0lMUElUXDA5MFBJMDA1MDM0MS5QVg/value\" # https://piwebt.tengizchevroil.com/piwebapi/attributes?path=\\\\tcogilpit\\090PI0050341.PV - EMS27 Station Barometric Pressure\n",
      "\n",
      "#$windSpeedValueUrl = \"https://piwebt.tengizchevroil.com/piwebapi/streams/F1DPpxEdV_k88EqA63Jsuw-yIg6cUJAAVENPR0lMUElUXDA5MFNJMDA1MDgyMV8yLlBW/value\" # https://piwebt.tengizchevroil.com/piwebapi/attributes?path=\\\\tcogilpit\\090SI0050821_2.PV - EMS27 10m Horizontal Wind Speed\n",
      "\n",
      "\n",
      "\n",
      "# Prod PI\n",
      "\n",
      "$temperatureValueUrl = \"https://piweb.tengizchevroil.com/piwebapi/streams/F1DPUQa9MzIAxUOQrz6Nh8fYxgwH0JAAVENPR0lMUElQXDA5MFRJMDA1MDgyN18yLlBW/value\" # https://piweb.tengizchevroil.com/piwebapi/attributes?path=\\\\tcogilpip\\090TI0050827_2.PV - EMS27 10m Temperature\n",
      "\n",
      "$windDirectionValueUrl = \"https://piweb.tengizchevroil.com/piwebapi/streams/F1DPUQa9MzIAxUOQrz6Nh8fYxgvX0JAAVENPR0lMUElQXDA5MFpJMDA1MDgyMV8yLlBW/value\" # https://piweb.tengizchevroil.com/piwebapi/attributes?path=\\\\tcogilpip\\090ZI0050821_2.PV - EMS27 10m Horizontal Wind Direction\n",
      "\n",
      "$humidityValueUrl = \"https://piweb.tengizchevroil.com/piwebapi/streams/F1DPUQa9MzIAxUOQrz6Nh8fYxgwn0JAAVENPR0lMUElQXDA5ME1JMDA1MDgyNy5QVg/value\" # https://piweb.tengizchevroil.com/piwebapi/attributes?path=\\\\tcogilpip\\090MI0050827.PV - EMS27 10m Relative Humidity\n",
      "\n",
      "$barometricPressureValueUrl = \"https://piweb.tengizchevroil.com/piwebapi/streams/F1DPUQa9MzIAxUOQrz6Nh8fYxgxH0JAAVENPR0lMUElQXDA5MFBJMDA1MDM0MS5QVg/value\" # https://piweb.tengizchevroil.com/piwebapi/attributes?path=\\\\tcogilpip\\090PI0050341.PV - EMS27 Station Barometric Pressure\n",
      "\n",
      "$windSpeedValueUrl = \"https://piweb.tengizchevroil.com/piwebapi/streams/F1DPUQa9MzIAxUOQrz6Nh8fYxgvH0JAAVENPR0lMUElQXDA5MFNJMDA1MDgyMV8yLlBW/value\" # https://piweb.tengizchevroil.com/piwebapi/attributes?path=\\\\tcogilpip\\090SI0050821_2.PV - EMS27 10m Horizontal Wind Speed\n",
      "\n",
      "\n",
      "\n",
      "[Net.ServicePointManager]::SecurityProtocol = [Net.SecurityProtocolType]::Tls12 \n",
      "\n",
      "$temperaturePiObject = Invoke-RestMethod -UseDefaultCredentials -Uri $temperatureValueUrl\n",
      "\n",
      "$windDirectionPiObject = Invoke-RestMethod -UseDefaultCredentials -Uri $windDirectionValueUrl\n",
      "\n",
      "$humidityPiObject = Invoke-RestMethod -UseDefaultCredentials -Uri $humidityValueUrl\n",
      "\n",
      "$barometricPressurePiObject = Invoke-RestMethod -UseDefaultCredentials -Uri $barometricPressureValueUrl\n",
      "\n",
      "$windSpeedPiObject = Invoke-RestMethod -UseDefaultCredentials -Uri $windSpeedValueUrl\n",
      "\n",
      "\n",
      "\n",
      "[DateTime]$readDateTime = $temperaturePiObject.Timestamp\n",
      "\n",
      "[Decimal]$temperatureC = $temperaturePiObject.Value\n",
      "\n",
      "[Decimal]$temperatureF = $temperaturePiObject.Value * 1.8 + 32\n",
      "\n",
      "[Decimal]$humidity = $humidityPiObject.Value\n",
      "\n",
      "[Decimal]$barometricPressure = $barometricPressurePiObject.Value\n",
      "\n",
      "[Decimal]$barometricPressureMmHg = $barometricPressurePiObject.Value * 0.75006375541921\n",
      "\n",
      "[Decimal]$windSpeedMPS = $windSpeedPiObject.Value\n",
      "\n",
      "[Decimal]$windSpeedMiPH = $windSpeedMPS * 2.237\n",
      "\n",
      "[Decimal]$windDirectionAngle = $windDirectionPiObject.Value\n",
      "\n",
      "If ($windSpeedMiPH -gt 0) {\n",
      "\n",
      "    [Decimal]$windChillF = 35.74 + 0.6215*$temperatureF - 35.75*[Math]::Pow($windSpeedMiPH, 0.16) + 0.4275*$temperatureF*[Math]::Pow($windSpeedMiPH, 0.16)\n",
      "\n",
      "    [Decimal]$windChillC = ($windChillF - 32) / 1.8\n",
      "\n",
      "} Else {\n",
      "\n",
      "    [Decimal]$windChillF = $temperatureF\n",
      "\n",
      "    [Decimal]$windChillC = $temperatureC\n",
      "\n",
      "}\n",
      "\n",
      "\n",
      "\n",
      "[String]$windDirectionString = $null\n",
      "\n",
      "If ($windDirectionAngle -le 11.25 -or $windDirectionAngle -ge 360-11.25) {$windDirectionString = \"N\"}\n",
      "\n",
      "Elseif ([Math]::Abs($windDirectionAngle)-22.5  -le 11.25) {$windDirectionString = \"NNE\"}\n",
      "\n",
      "Elseif ([Math]::Abs($windDirectionAngle)-45    -le 11.25) {$windDirectionString = \"NE\"}\n",
      "\n",
      "Elseif ([Math]::Abs($windDirectionAngle)-67.5  -le 11.25) {$windDirectionString = \"ENE\"}\n",
      "\n",
      "Elseif ([Math]::Abs($windDirectionAngle)-90    -le 11.25) {$windDirectionString = \"E\"}\n",
      "\n",
      "Elseif ([Math]::Abs($windDirectionAngle)-112.5 -le 11.25) {$windDirectionString = \"ESE\"}\n",
      "\n",
      "Elseif ([Math]::Abs($windDirectionAngle)-135   -le 11.25) {$windDirectionString = \"SE\"}\n",
      "\n",
      "Elseif ([Math]::Abs($windDirectionAngle)-157.5 -le 11.25) {$windDirectionString = \"SSE\"}\n",
      "\n",
      "Elseif ([Math]::Abs($windDirectionAngle)-180   -le 11.25) {$windDirectionString = \"S\"}\n",
      "\n",
      "Elseif ([Math]::Abs($windDirectionAngle)-202.5 -le 11.25) {$windDirectionString = \"SSW\"}\n",
      "\n",
      "Elseif ([Math]::Abs($windDirectionAngle)-225   -le 11.25) {$windDirectionString = \"SW\"}\n",
      "\n",
      "Elseif ([Math]::Abs($windDirectionAngle)-247.5 -le 11.25) {$windDirectionString = \"WSW\"}\n",
      "\n",
      "Elseif ([Math]::Abs($windDirectionAngle)-270   -le 11.25) {$windDirectionString = \"W\"}\n",
      "\n",
      "Elseif ([Math]::Abs($windDirectionAngle)-292.5 -le 11.25) {$windDirectionString = \"WNW\"}\n",
      "\n",
      "Elseif ([Math]::Abs($windDirectionAngle)-315   -le 11.25) {$windDirectionString = \"NW\"}\n",
      "\n",
      "Elseif ([Math]::Abs($windDirectionAngle)-337.5 -le 11.25) {$windDirectionString = \"NNW\"}\n",
      "\n",
      "Else { $windDirectionString = $windDirectionAngle.ToString() }\n",
      "\n",
      "\n",
      "\n",
      "\n",
      "\n",
      "[xml]$xml = \"<?xml version=\"\"1.0\"\" encoding=\"\"utf-8\"\"?><Doc><Weather><Tengiz><Date></Date><ReadTime></ReadTime><TemperatureC></TemperatureC><TemperatureF></TemperatureF><WindDirection></WindDirection><WindSpeedMPS></WindSpeedMPS><WindSpeedMPH></WindSpeedMPH><WindChillTemperatureC></WindChillTemperatureC><WindChillTemperatureF></WindChillTemperatureF><Humidity></Humidity><BarometricPressure></BarometricPressure><BarometricPressureMmHg></BarometricPressureMmHg></Tengiz></Weather></Doc>\"\n",
      "\n",
      "$xml.Doc.Weather.Tengiz.Date = \"{0:ddd MMM d yyyy}\" -f $readDateTime\n",
      "\n",
      "$xml.Doc.Weather.Tengiz.ReadTime = $readDateTime.ToLongTimeString()\n",
      "\n",
      "$xml.Doc.Weather.Tengiz.TemperatureC = [Math]::Round($temperatureC, 1).ToString()\n",
      "\n",
      "$xml.Doc.Weather.Tengiz.TemperatureF = [Math]::Round($temperatureF, 1).ToString()\n",
      "\n",
      "$xml.Doc.Weather.Tengiz.Humidity = \"{0}%\" -f [Math]::Round($humidity, 0)\n",
      "\n",
      "$xml.Doc.Weather.Tengiz.WindDirection = $windDirectionString\n",
      "\n",
      "$xml.Doc.Weather.Tengiz.BarometricPressure = [Math]::Round($barometricPressure, 0).ToString()\n",
      "\n",
      "$xml.Doc.Weather.Tengiz.BarometricPressureMmHg = [Math]::Round($barometricPressureMmHg, 0).ToString()\n",
      "\n",
      "$xml.Doc.Weather.Tengiz.WindSpeedMPH = [Math]::Round($windSpeedMiPH, 1).ToString()\n",
      "\n",
      "$xml.Doc.Weather.Tengiz.WindSpeedMPS = [Math]::Round($windSpeedMPS, 1).ToString()\n",
      "\n",
      "$xml.Doc.Weather.Tengiz.WindChillTemperatureC = [Math]::Round($windChillC, 1).ToString()\n",
      "\n",
      "$xml.Doc.Weather.Tengiz.WindChillTemperatureF = [Math]::Round($windChillF, 1).ToString()\n",
      "\n",
      "\n",
      "\n",
      "$xml.Save(\"\\\\inside.tengizchevroil.com\\shares\\Inside\\Applications\\Weather\\DailyWeatherTengiz.xml\")\n",
      "\n",
      "\n",
      "\n",
      "ScriptBlock ID: da4f6b7d-dd53-4ef4-b7a8-6cef395521a7\n",
      "\n",
      "Path: C:\\TCO Apps\\WeatherPI\\WeatherPI.ps1\n",
      "Creating Scriptblock text (1 of 1):\n",
      "\n",
      "{\n",
      "\n",
      "\n",
      "\n",
      "                if($Global:previousNdf)\n",
      "\n",
      "                {\n",
      "\n",
      "                    #before we add the root cause, lets make sure we shouldn't be skipping it\n",
      "\n",
      "                    $skipReason = $Global:previousNdf.ShouldSkipRootCause($rootCause);\n",
      "\n",
      "                    if($skipReason -ne $NDF_SKIPREASON_NONE)\n",
      "\n",
      "                    {\n",
      "\n",
      "                        $skipText = GetSkipReasonText($skipReason)\n",
      "\n",
      "                        $rootCause.RootCauseID + \" skipped due to reason: \" + $skipText  | convertto-xml | Update-DiagReport -id RootCauseSkipped -name \"Root Cause Skipped\" -verbosity Debug\n",
      "\n",
      "                        continue;\n",
      "\n",
      "                    }\n",
      "\n",
      "                }\n",
      "\n",
      "\n",
      "\n",
      "                #try to add root cause. an exception will be thrown\n",
      "\n",
      "                #if it is not manifested\n",
      "\n",
      "\n",
      "\n",
      "                $rcToAttach = $rootCause.RootCauseID;\n",
      "\n",
      "                if($catchAllRC)\n",
      "\n",
      "                {\n",
      "\n",
      "                    #get the catch-all root cause ID if available\n",
      "\n",
      "                    if($Global:catchAllsAltRC[$catchAllRC])\n",
      "\n",
      "                    {\n",
      "\n",
      "                        $rcToAttach = $Global:catchAllsAltRC[$catchAllRC];\n",
      "\n",
      "                        \"Attaching catch-all Root Cause instead. ID:\" + $rcToAttach | convertto-xml | Update-DiagReport -id CatchAllRootCause -name \"Catch-all Root Cause used.\" -verbosity Debug\n",
      "\n",
      "                    }\n",
      "\n",
      "                }\n",
      "\n",
      "\n",
      "\n",
      "                #collect the replacement parameters\n",
      "\n",
      "                $params = @{\"InstanceID\" = $instanceID};\n",
      "\n",
      "\n",
      "\n",
      "                #Get extra replacement parameters from repair\n",
      "\n",
      "                $descEx = $rootCause.DescriptionEx\n",
      "\n",
      "                if(!($descEx -eq $null))\n",
      "\n",
      "                {\n",
      "\n",
      "                    $params += GetParameters $descEx $params\n",
      "\n",
      "                }\n",
      "\n",
      "\n",
      "\n",
      "                #also need parameters for every repair\n",
      "\n",
      "                $repairEnum.Reset()\n",
      "\n",
      "                for($curRep=0; $curRep -lt $repairCount; $curRep++)\n",
      "\n",
      "                {\n",
      "\n",
      "                    $repair = $repairEnum.Next\n",
      "\n",
      "                    $descEx = $repair.DescriptionEx\n",
      "\n",
      "                    if(!($descEx -eq $null))\n",
      "\n",
      "                    {\n",
      "\n",
      "                         $params += GetParameters $descEx $params\n",
      "\n",
      "                    }\n",
      "\n",
      "                }\n",
      "\n",
      "\n",
      "\n",
      "                #add security boundary safe data\n",
      "\n",
      "                $data = GetSBSData $Global:ndf.IncidentID\n",
      "\n",
      "                $params.Add(\"SBSData\",$data)\n",
      "\n",
      "\n",
      "\n",
      "                #keywords for escalation\n",
      "\n",
      "                $keywords = GetKeywords($rootCause.DescriptionEx);\n",
      "\n",
      "                if($keywords.Length -gt 0)\n",
      "\n",
      "                {\n",
      "\n",
      "                    $params.Add(\"Keywords\", $keywords);\n",
      "\n",
      "                }\n",
      "\n",
      "\n",
      "\n",
      "                $script:ExpectingException = $true;\n",
      "\n",
      "               \n",
      "\n",
      "\n",
      "\n",
      "                Update-DiagRootCause -InstanceId $instanceID -ID $rcToAttach -Detected $true -Parameter $params\n",
      "\n",
      "                $script:ExpectingException = $false;\n",
      "\n",
      "\n",
      "\n",
      "                #log the parameters\n",
      "\n",
      "                $evtDesc =  \"Root Cause \" + $rcToAttach\n",
      "\n",
      "                $params |  convertto-xml | Update-DiagReport -id RootCauseParameters -name \"Root Cause Parameters\" -description $evtDesc -verbosity Debug\n",
      "\n",
      "            }\n",
      "\n",
      "\n",
      "\n",
      "ScriptBlock ID: 85c54dcd-12a5-4db9-afee-ee9e225238f6\n",
      "\n",
      "Path: C:\\Users\\bnrx\\AppData\\Local\\Temp\\SDIAG_6c24ac9a-a2cb-42d0-b058-d3b044b30957\\NetworkDiagnosticsTroubleshoot.ps1\n",
      "Creating Scriptblock text (1 of 1):\n",
      "\n",
      "function AddCommandOutputToSession($Commands, $TargetCABName, $ReportHeader)\n",
      "\n",
      "{\n",
      "\n",
      "    #lets create the temporary folder for all this data\n",
      "\n",
      "    $tempFolder = [System.IO.Path]::GetTempFileName();\n",
      "\n",
      "    del $tempFolder; #delete the file\n",
      "\n",
      "    mkdir $tempFolder; #make it into a folder\n",
      "\n",
      "\n",
      "\n",
      "    #go into the folder to avoid leaving side-effect files behind\n",
      "\n",
      "    pushd $tempFolder;\n",
      "\n",
      "\n",
      "\n",
      "    #run the commands in the list\n",
      "\n",
      "    $fileList = @();\n",
      "\n",
      "    $timeMeasure = @(); #keeps track of length of execution for commands\n",
      "\n",
      "    foreach($item in $Commands)\n",
      "\n",
      "    {\n",
      "\n",
      "        #measure time it takes to execute commands\n",
      "\n",
      "        $start = get-date\n",
      "\n",
      "\n",
      "\n",
      "        $targetFile = $tempFolder + \"\\\" + $item[\"file\"];\n",
      "\n",
      "        $cmdline = $item[\"command\"] + \" \" + (HereString $targetFile);\n",
      "\n",
      "        $err = $($out = Invoke-expression  $cmdline) 2>&1;\n",
      "\n",
      "        if(!$err)\n",
      "\n",
      "        {\n",
      "\n",
      "            #the call succeeded, add the target file to the list to CAB\n",
      "\n",
      "            $fileList += @($item[\"file\"]);\n",
      "\n",
      "        }\n",
      "\n",
      "        $runtime = (get-date) - $start;\n",
      "\n",
      "        $timeMeasure += @(@{\"command\"=$item[\"command\"];\"runtime (ms)\"=$runtime.TotalMilliseconds});\n",
      "\n",
      "    }\n",
      "\n",
      "\n",
      "\n",
      "    #create a CAB of the files\n",
      "\n",
      "    $start = get-date\n",
      "\n",
      "    if(CreateCab ($fileList) (\".\\\") ($TargetCABName))\n",
      "\n",
      "    {\n",
      "\n",
      "        $runtime = (get-date) - $start;\n",
      "\n",
      "        $timeMeasure += @(@{\"command\"=\"makecab.exe\";\"runtime (ms)\"=$runtime.TotalMilliseconds});\n",
      "\n",
      "        Update-DiagReport -ID NetworkData -name $ReportHeader -File ($tempFolder + \"\\\"+ $TargetCABName)\n",
      "\n",
      "    }\n",
      "\n",
      "\n",
      "\n",
      "    $timeMeasure | convertto-xml | Update-DiagReport -ID ConfigCollectionRuntime -Name \"Data Collection Time\" -Verbosity Debug\n",
      "\n",
      "\n",
      "\n",
      "    popd;\n",
      "\n",
      "\n",
      "\n",
      "    remove-item -recurse -force $tempFolder;\n",
      "\n",
      "}\n",
      "\n",
      "\n",
      "\n",
      "ScriptBlock ID: 1d376ccb-3bc6-4fc0-93ba-04b18824c430\n",
      "\n",
      "Path: C:\\Users\\rjgj\\AppData\\Local\\Temp\\SDIAG_a6b50ec4-1db8-4c7d-a733-2ece32a1b0a7\\UtilityFunctions.ps1\n"
     ]
    }
   ],
   "source": [
    "for i in df['scripts'].loc[df['outlier']==1]:\n",
    "    print(i)"
   ]
  },
  {
   "cell_type": "code",
   "execution_count": null,
   "metadata": {},
   "outputs": [],
   "source": []
  }
 ],
 "metadata": {
  "kernelspec": {
   "display_name": "keras",
   "language": "python",
   "name": "keras"
  },
  "language_info": {
   "codemirror_mode": {
    "name": "ipython",
    "version": 3
   },
   "file_extension": ".py",
   "mimetype": "text/x-python",
   "name": "python",
   "nbconvert_exporter": "python",
   "pygments_lexer": "ipython3",
   "version": "3.7.6"
  }
 },
 "nbformat": 4,
 "nbformat_minor": 2
}
